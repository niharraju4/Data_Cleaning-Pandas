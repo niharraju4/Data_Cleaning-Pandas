{
 "cells": [
  {
   "cell_type": "code",
   "execution_count": null,
   "metadata": {},
   "outputs": [],
   "source": [
    "# Pandas is a data manipulation and analysis tool that is built on Numpy.\n",
    "# Pandas uses a data structure known as DataFrame (think of it as Microsoft excel in Python). \n",
    "# DataFrames empower programmers to store and manipulate data in a tabular fashion (rows and columns).\n",
    "# Series Vs. DataFrame? Series is considered a single column of a DataFrame."
   ]
  },
  {
   "cell_type": "code",
   "execution_count": 1,
   "metadata": {},
   "outputs": [],
   "source": [
    "import pandas as pd"
   ]
  },
  {
   "cell_type": "code",
   "execution_count": 2,
   "metadata": {},
   "outputs": [
    {
     "data": {
      "text/plain": [
       "['NVDA', 'MSFT', 'FB', 'AMZN', 'BA']"
      ]
     },
     "execution_count": 2,
     "metadata": {},
     "output_type": "execute_result"
    }
   ],
   "source": [
    "# Let's define a Python list that contains 5 stocks: Nvidia, Microsoft, FaceBook, Amazon, and Boeing\n",
    "my_list = ['NVDA', 'MSFT', 'FB', 'AMZN', 'BA']\n",
    "my_list"
   ]
  },
  {
   "cell_type": "code",
   "execution_count": 4,
   "metadata": {},
   "outputs": [
    {
     "data": {
      "text/plain": [
       "list"
      ]
     },
     "execution_count": 4,
     "metadata": {},
     "output_type": "execute_result"
    }
   ],
   "source": [
    "# Let's confirm the Datatype\n",
    "type(my_list)"
   ]
  },
  {
   "cell_type": "code",
   "execution_count": 7,
   "metadata": {},
   "outputs": [
    {
     "data": {
      "text/plain": [
       "0    NVDA\n",
       "1    MSFT\n",
       "2      FB\n",
       "3    AMZN\n",
       "4      BA\n",
       "dtype: object"
      ]
     },
     "execution_count": 7,
     "metadata": {},
     "output_type": "execute_result"
    }
   ],
   "source": [
    "# Let's create a one dimensional Pandas \"series\" \n",
    "# Let's use Pandas Constructor Method to create a series from a Python list\n",
    "# Note that series is formed of data and associated index (numeric index has been automatically generated) \n",
    "# Check Pandas Documentation for More information: https://pandas.pydata.org/pandas-docs/stable/reference/api/pandas.Series.html#pandas.Series\n",
    "# Object datatype is used for text data (String)\n",
    "series1 = pd.Series(my_list)\n",
    "series1"
   ]
  },
  {
   "cell_type": "code",
   "execution_count": 8,
   "metadata": {},
   "outputs": [
    {
     "data": {
      "text/plain": [
       "pandas.core.series.Series"
      ]
     },
     "execution_count": 8,
     "metadata": {},
     "output_type": "execute_result"
    }
   ],
   "source": [
    "# Let's confirm the Pandas Series Datatype\n",
    "type(series1)"
   ]
  },
  {
   "cell_type": "code",
   "execution_count": 10,
   "metadata": {},
   "outputs": [
    {
     "data": {
      "text/plain": [
       "0     100\n",
       "1     200\n",
       "2     500\n",
       "3    1000\n",
       "4    5000\n",
       "dtype: int64"
      ]
     },
     "execution_count": 10,
     "metadata": {},
     "output_type": "execute_result"
    }
   ],
   "source": [
    "# Let's define another Pandas Series that contains numeric values (stock prices) instead of text data\n",
    "# Note that we have int64 datatype which means it's integer stored in 64 bits in memory\n",
    "series2 = pd.Series(data=[100,200,500,1000,5000])\n",
    "series2"
   ]
  },
  {
   "cell_type": "markdown",
   "metadata": {},
   "source": [
    "**MINI CHALLENGE #1:**\n",
    "- **Define a Pandas Series named \"my_series\" that contains your top 3 favourite movies. Confirm the datatype of \"my_series\"**"
   ]
  },
  {
   "cell_type": "code",
   "execution_count": 18,
   "metadata": {},
   "outputs": [
    {
     "name": "stdout",
     "output_type": "stream",
     "text": [
      "0          StarWars\n",
      "1    LordOftheRings\n",
      "2       Harrypotter\n",
      "dtype: object\n"
     ]
    }
   ],
   "source": [
    "import pandas as pd\n",
    "list =['StarWars', 'LordOftheRings', 'Harrypotter']\n",
    "my_series = pd.Series(list)\n",
    "print(my_series)"
   ]
  },
  {
   "cell_type": "markdown",
   "metadata": {},
   "source": [
    "# Let's define a python list as shown below. This python list will be used for the Series index:\n"
   ]
  },
  {
   "cell_type": "code",
   "execution_count": 20,
   "metadata": {},
   "outputs": [
    {
     "data": {
      "text/plain": [
       "list"
      ]
     },
     "execution_count": 20,
     "metadata": {},
     "output_type": "execute_result"
    }
   ],
   "source": [
    "type(list)"
   ]
  },
  {
   "cell_type": "markdown",
   "metadata": {},
   "source": [
    "2. DEFINE A PANDAS SERIES WITH CUSTOM INDEX"
   ]
  },
  {
   "cell_type": "code",
   "execution_count": 23,
   "metadata": {},
   "outputs": [
    {
     "data": {
      "text/plain": [
       "['NVDA', 'MSFT', 'FB', 'AMZN', 'BA']"
      ]
     },
     "execution_count": 23,
     "metadata": {},
     "output_type": "execute_result"
    }
   ],
   "source": [
    "# Let's define a Python list that contains 5 stocks: Nvidia, Microsoft, FaceBook, Amazon, and Boeing\n",
    "my_list = ['NVDA', 'MSFT', 'FB', 'AMZN', 'BA']\n",
    "my_list"
   ]
  },
  {
   "cell_type": "code",
   "execution_count": 24,
   "metadata": {},
   "outputs": [
    {
     "data": {
      "text/plain": [
       "['stock_1', 'stock_2', 'stock_3', 'stock_4', 'stock_5']"
      ]
     },
     "execution_count": 24,
     "metadata": {},
     "output_type": "execute_result"
    }
   ],
   "source": [
    "# Let's define a python list as shown below. This python list will be used for the Series index:\n",
    "my_labels = ['stock_1','stock_2','stock_3','stock_4','stock_5']\n",
    "my_labels"
   ]
  },
  {
   "cell_type": "code",
   "execution_count": 25,
   "metadata": {},
   "outputs": [],
   "source": [
    "# Let's create a one dimensional Pandas \"series\" \n",
    "# Let's use Pandas Constructor Method to create a series from a Python list\n",
    "# Note that this series is formed of data and associated labels \n",
    "series_3 = pd.Series(data = my_list, index=my_labels)"
   ]
  },
  {
   "cell_type": "code",
   "execution_count": 26,
   "metadata": {},
   "outputs": [
    {
     "data": {
      "text/plain": [
       "stock_1    NVDA\n",
       "stock_2    MSFT\n",
       "stock_3      FB\n",
       "stock_4    AMZN\n",
       "stock_5      BA\n",
       "dtype: object"
      ]
     },
     "execution_count": 26,
     "metadata": {},
     "output_type": "execute_result"
    }
   ],
   "source": [
    "# Let's view the series\n",
    "series_3"
   ]
  },
  {
   "cell_type": "code",
   "execution_count": 27,
   "metadata": {},
   "outputs": [
    {
     "data": {
      "text/plain": [
       "pandas.core.series.Series"
      ]
     },
     "execution_count": 27,
     "metadata": {},
     "output_type": "execute_result"
    }
   ],
   "source": [
    "# Let's obtain the datatype\n",
    "type(series_3)"
   ]
  },
  {
   "cell_type": "markdown",
   "metadata": {},
   "source": [
    "**MINI CHALLENGE #2:**\n",
    "- **Define a Pandas Series named \"my_series\" that contains your top 3 favourite movies. Instead of using default numeric indexes (similar to mini challenge #1), use the following indexes \"movie #1\", \"Movie #2\", and \"movie #3\"**"
   ]
  },
  {
   "cell_type": "code",
   "execution_count": 35,
   "metadata": {},
   "outputs": [
    {
     "data": {
      "text/plain": [
       "['StarWars', 'LordOftheRings', 'Harrypotter']"
      ]
     },
     "execution_count": 35,
     "metadata": {},
     "output_type": "execute_result"
    }
   ],
   "source": [
    "list =['StarWars', 'LordOftheRings', 'Harrypotter']\n",
    "list\n"
   ]
  },
  {
   "cell_type": "code",
   "execution_count": 36,
   "metadata": {},
   "outputs": [
    {
     "data": {
      "text/plain": [
       "['movie #1', 'Movie #2', 'movie #3']"
      ]
     },
     "execution_count": 36,
     "metadata": {},
     "output_type": "execute_result"
    }
   ],
   "source": [
    "numbers =['movie #1', 'Movie #2','movie #3']\n",
    "numbers"
   ]
  },
  {
   "cell_type": "code",
   "execution_count": 38,
   "metadata": {},
   "outputs": [
    {
     "data": {
      "text/plain": [
       "movie #1          StarWars\n",
       "Movie #2    LordOftheRings\n",
       "movie #3       Harrypotter\n",
       "dtype: object"
      ]
     },
     "execution_count": 38,
     "metadata": {},
     "output_type": "execute_result"
    }
   ],
   "source": [
    "my_series = pd.Series(data = list, index =numbers)\n",
    "my_series"
   ]
  },
  {
   "cell_type": "markdown",
   "metadata": {},
   "source": [
    "3. DEFINE A PANDAS SERIES FROM A DICTIONARY"
   ]
  },
  {
   "cell_type": "code",
   "execution_count": 42,
   "metadata": {},
   "outputs": [],
   "source": [
    "# A Dictionary consists of a collection of key-value pairs. Each key-value pair maps the key to its corresponding value.\n",
    "# Keys are unique within a dictionary while values may not be. \n",
    "# List elements are accessed by their position in the list, via indexing while Dictionary elements are accessed via keys\n",
    "# Define a dictionary named \"my_dict\" using key-value pairs\n",
    "my_dict ={'Bank client ID': 111,\n",
    "                          'Bank Client Name': 'Steve',\n",
    "                          'Net worth [$]': 3500,\n",
    "                          'Years with bank': 9}"
   ]
  },
  {
   "cell_type": "code",
   "execution_count": 43,
   "metadata": {},
   "outputs": [
    {
     "data": {
      "text/plain": [
       "{'Bank client ID': 111,\n",
       " 'Bank Client Name': 'Steve',\n",
       " 'Net worth [$]': 3500,\n",
       " 'Years with bank': 9}"
      ]
     },
     "execution_count": 43,
     "metadata": {},
     "output_type": "execute_result"
    }
   ],
   "source": [
    "my_dict"
   ]
  },
  {
   "cell_type": "code",
   "execution_count": 44,
   "metadata": {},
   "outputs": [
    {
     "data": {
      "text/plain": [
       "dict"
      ]
     },
     "execution_count": 44,
     "metadata": {},
     "output_type": "execute_result"
    }
   ],
   "source": [
    "type(my_dict)"
   ]
  },
  {
   "cell_type": "code",
   "execution_count": 45,
   "metadata": {},
   "outputs": [
    {
     "data": {
      "text/plain": [
       "Bank client ID        111\n",
       "Bank Client Name    Steve\n",
       "Net worth [$]        3500\n",
       "Years with bank         9\n",
       "dtype: object"
      ]
     },
     "execution_count": 45,
     "metadata": {},
     "output_type": "execute_result"
    }
   ],
   "source": [
    "series4 = pd.Series(my_dict)\n",
    "series4"
   ]
  },
  {
   "cell_type": "markdown",
   "metadata": {},
   "source": [
    "MINI CHALLENGE #4:\n",
    "\n",
    "What is the size of the Pandas Series? (External Research for the proper attribute is Required)"
   ]
  },
  {
   "cell_type": "code",
   "execution_count": 50,
   "metadata": {},
   "outputs": [
    {
     "data": {
      "text/plain": [
       "{'NVDA': 200, 'MSFT': 450, 'FB': 365, 'AMZN': 189, 'BA': 8}"
      ]
     },
     "execution_count": 50,
     "metadata": {},
     "output_type": "execute_result"
    }
   ],
   "source": [
    "my_dict2 = {'NVDA':200,\n",
    "'MSFT':450,\n",
    "'FB':365,\n",
    "'AMZN':189,\n",
    "'BA':8\n",
    "}\n",
    "my_dict2"
   ]
  },
  {
   "cell_type": "code",
   "execution_count": 51,
   "metadata": {},
   "outputs": [
    {
     "data": {
      "text/plain": [
       "dict"
      ]
     },
     "execution_count": 51,
     "metadata": {},
     "output_type": "execute_result"
    }
   ],
   "source": [
    "type(my_dict2)"
   ]
  },
  {
   "cell_type": "code",
   "execution_count": 52,
   "metadata": {},
   "outputs": [
    {
     "data": {
      "text/plain": [
       "NVDA    200\n",
       "MSFT    450\n",
       "FB      365\n",
       "AMZN    189\n",
       "BA        8\n",
       "dtype: int64"
      ]
     },
     "execution_count": 52,
     "metadata": {},
     "output_type": "execute_result"
    }
   ],
   "source": [
    "series41 = pd.Series(my_dict2)\n",
    "series41"
   ]
  },
  {
   "cell_type": "markdown",
   "metadata": {},
   "source": [
    "# 4. PANDAS ATTRIBUTES"
   ]
  },
  {
   "cell_type": "code",
   "execution_count": null,
   "metadata": {},
   "outputs": [],
   "source": [
    "# Attributes/Properties: do not use parantheses \"()\" and are used to get Pandas Series Properties. Ex: my_series.values, my_series.shape\n",
    "# Methods: use parantheses \"()\" and might include arguments and they actually alter/change the Pandas Series. Ex: my_series.tail(), my_series.head(), my_series.drop_duplicates()\n",
    "# Indexers: use square brackets \"[]\" and are used to access specific elements in a Pandas Series or DataFrame. Ex: my_series.loc[], my_series.iloc[]\n",
    "\n",
    "# Let's redefine a Pandas Series containing our favourite 5 stocks \n",
    "# Nvidia, Microsoft, FaceBook, Amazon, and Boeing\n"
   ]
  }
 ],
 "metadata": {
  "kernelspec": {
   "display_name": "base",
   "language": "python",
   "name": "python3"
  },
  "language_info": {
   "codemirror_mode": {
    "name": "ipython",
    "version": 3
   },
   "file_extension": ".py",
   "mimetype": "text/x-python",
   "name": "python",
   "nbconvert_exporter": "python",
   "pygments_lexer": "ipython3",
   "version": "3.11.8"
  }
 },
 "nbformat": 4,
 "nbformat_minor": 2
}
